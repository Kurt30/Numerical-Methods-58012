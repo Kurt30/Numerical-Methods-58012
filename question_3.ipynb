{
  "nbformat": 4,
  "nbformat_minor": 0,
  "metadata": {
    "colab": {
      "name": "question 3.ipynb",
      "provenance": [],
      "authorship_tag": "ABX9TyPsCWbZDXAM7iZpSLYUor3i",
      "include_colab_link": true
    },
    "kernelspec": {
      "name": "python3",
      "display_name": "Python 3"
    },
    "language_info": {
      "name": "python"
    }
  },
  "cells": [
    {
      "cell_type": "markdown",
      "metadata": {
        "id": "view-in-github",
        "colab_type": "text"
      },
      "source": [
        "<a href=\"https://colab.research.google.com/github/Kurt30/Numerical-Methods-58012/blob/main/question_3.ipynb\" target=\"_parent\"><img src=\"https://colab.research.google.com/assets/colab-badge.svg\" alt=\"Open In Colab\"/></a>"
      ]
    },
    {
      "cell_type": "code",
      "execution_count": 2,
      "metadata": {
        "colab": {
          "base_uri": "https://localhost:8080/"
        },
        "id": "-fmPERvz9VSz",
        "outputId": "9c7d8afc-20dc-4654-df25-1f20297672e4"
      },
      "outputs": [
        {
          "output_type": "stream",
          "name": "stdout",
          "text": [
            "Integral = 0.1\n"
          ]
        }
      ],
      "source": [
        "from math import e\n",
        "def f(x): return e**x\n",
        "a = -1\n",
        "b = 1\n",
        "n = 10\n",
        "h = (b-a)/n\n",
        "S = h*(f(a)+f(b))\n",
        "for i in range(1,n):\n",
        "    S+= (a+i*h)\n",
        "Integral=h*S\n",
        "print('Integral = %.1f' %Integral)"
      ]
    }
  ]
}