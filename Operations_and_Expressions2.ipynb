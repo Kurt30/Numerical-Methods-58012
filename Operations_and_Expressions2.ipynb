{
  "nbformat": 4,
  "nbformat_minor": 0,
  "metadata": {
    "colab": {
      "name": "Operations_and_Expressions2.ipynb",
      "provenance": [],
      "authorship_tag": "ABX9TyNY4aHRofIkZmedT1j7jQSx",
      "include_colab_link": true
    },
    "kernelspec": {
      "name": "python3",
      "display_name": "Python 3"
    },
    "language_info": {
      "name": "python"
    }
  },
  "cells": [
    {
      "cell_type": "markdown",
      "metadata": {
        "id": "view-in-github",
        "colab_type": "text"
      },
      "source": [
        "<a href=\"https://colab.research.google.com/github/Kurt30/Numerical-Methods-58012/blob/main/Operations_and_Expressions2.ipynb\" target=\"_parent\"><img src=\"https://colab.research.google.com/assets/colab-badge.svg\" alt=\"Open In Colab\"/></a>"
      ]
    },
    {
      "cell_type": "code",
      "execution_count": 13,
      "metadata": {
        "colab": {
          "base_uri": "https://localhost:8080/"
        },
        "id": "7GHDyhq3iA2J",
        "outputId": "cc407b5d-63c7-4fd8-cf6b-72b03f2c8604"
      },
      "outputs": [
        {
          "output_type": "stream",
          "name": "stdout",
          "text": [
            "True\n",
            "False\n",
            "False\n"
          ]
        }
      ],
      "source": [
        "print(10>9)\n",
        "print(10<9)\n",
        "print(10==9)"
      ]
    },
    {
      "cell_type": "code",
      "source": [
        "a=10\n",
        "b=9\n",
        "print(a>b)\n",
        "print(a<b)\n",
        "print(a==b)"
      ],
      "metadata": {
        "colab": {
          "base_uri": "https://localhost:8080/"
        },
        "id": "I0AaHwgziR0A",
        "outputId": "317799d6-8e19-4f2e-cddf-52d73dc484c7"
      },
      "execution_count": 14,
      "outputs": [
        {
          "output_type": "stream",
          "name": "stdout",
          "text": [
            "True\n",
            "False\n",
            "False\n"
          ]
        }
      ]
    },
    {
      "cell_type": "markdown",
      "source": [
        "**Bool Function**"
      ],
      "metadata": {
        "id": "SovXUYXjiSwh"
      }
    },
    {
      "cell_type": "code",
      "source": [
        "print(bool(5))\n",
        "print(bool(\"Maria\"))\n",
        "\n",
        "print(bool(0))\n",
        "print(bool(1))\n",
        "\n",
        "print(bool(None))\n",
        "print(bool([]))"
      ],
      "metadata": {
        "colab": {
          "base_uri": "https://localhost:8080/"
        },
        "id": "1tVCfUD7iT12",
        "outputId": "c914199f-5596-45b2-cf04-00a04f721b31"
      },
      "execution_count": 10,
      "outputs": [
        {
          "output_type": "stream",
          "name": "stdout",
          "text": [
            "True\n",
            "True\n",
            "False\n",
            "True\n",
            "False\n",
            "False\n"
          ]
        }
      ]
    },
    {
      "cell_type": "markdown",
      "source": [
        "**Functions can return a Boolean**"
      ],
      "metadata": {
        "id": "4UGhnZF-iWON"
      }
    },
    {
      "cell_type": "code",
      "source": [
        "def myFunction():\n",
        "  return True\n",
        "\n",
        "  print(myFunction())\n",
        "\n",
        "  True"
      ],
      "metadata": {
        "id": "vBEG-XEhiVOg"
      },
      "execution_count": 9,
      "outputs": []
    },
    {
      "cell_type": "code",
      "source": [
        "if myFunction():\n",
        "  print(\"yes\")\n",
        "else:\n",
        "    print(\"no\")"
      ],
      "metadata": {
        "colab": {
          "base_uri": "https://localhost:8080/"
        },
        "id": "AidsPP5ViXwF",
        "outputId": "0ef5a5dc-ed35-4698-ec3f-948870b32173"
      },
      "execution_count": 11,
      "outputs": [
        {
          "output_type": "stream",
          "name": "stdout",
          "text": [
            "yes\n"
          ]
        }
      ]
    },
    {
      "cell_type": "markdown",
      "source": [
        "**Application 1**"
      ],
      "metadata": {
        "id": "oLxSXbyriY4y"
      }
    },
    {
      "cell_type": "code",
      "source": [
        "print(10>9)\n",
        "a=6\n",
        "b=7\n",
        "print(a==b)\n",
        "print(a!=a)"
      ],
      "metadata": {
        "colab": {
          "base_uri": "https://localhost:8080/"
        },
        "id": "FrbRsi36iZkq",
        "outputId": "bfac104b-a47e-4eaf-8256-63e60a2a1d29"
      },
      "execution_count": 7,
      "outputs": [
        {
          "output_type": "stream",
          "name": "stdout",
          "text": [
            "True\n",
            "False\n",
            "False\n"
          ]
        }
      ]
    },
    {
      "cell_type": "markdown",
      "source": [
        "**Python Operators**"
      ],
      "metadata": {
        "id": "Pg5B8zRJiax6"
      }
    },
    {
      "cell_type": "code",
      "source": [
        "print(10%5)\n",
        "print(10//3)\n",
        "print(10**2)"
      ],
      "metadata": {
        "colab": {
          "base_uri": "https://localhost:8080/"
        },
        "id": "Z-2FQ19qibs0",
        "outputId": "9d8b6090-59de-4462-d48c-10cdd51bfe37"
      },
      "execution_count": 6,
      "outputs": [
        {
          "output_type": "stream",
          "name": "stdout",
          "text": [
            "0\n",
            "3\n",
            "100\n"
          ]
        }
      ]
    },
    {
      "cell_type": "code",
      "source": [
        "print(10+9)\n",
        "print(10-9)\n",
        "print(10*2)\n",
        "print(10//2)\n",
        "print(10*2)"
      ],
      "metadata": {
        "colab": {
          "base_uri": "https://localhost:8080/"
        },
        "id": "fLEBT12RicsR",
        "outputId": "a23d4d16-c690-44db-866f-bd52aaeeea20"
      },
      "execution_count": 5,
      "outputs": [
        {
          "output_type": "stream",
          "name": "stdout",
          "text": [
            "19\n",
            "1\n",
            "20\n",
            "5\n",
            "20\n"
          ]
        }
      ]
    },
    {
      "cell_type": "markdown",
      "source": [
        "**Python Bitwise Operators**"
      ],
      "metadata": {
        "id": "DHrwA9t-ids2"
      }
    },
    {
      "cell_type": "code",
      "source": [
        "a=60\n",
        "b=13\n",
        "print(a&b)\n",
        "print(a|b)"
      ],
      "metadata": {
        "colab": {
          "base_uri": "https://localhost:8080/"
        },
        "id": "661lPm0SifNU",
        "outputId": "b2a34bcf-71e0-499d-8807-eb6c62d6a720"
      },
      "execution_count": 4,
      "outputs": [
        {
          "output_type": "stream",
          "name": "stdout",
          "text": [
            "12\n",
            "61\n"
          ]
        }
      ]
    },
    {
      "cell_type": "markdown",
      "source": [
        "**Python Assignment Operators**"
      ],
      "metadata": {
        "id": "ZOqBg-GhigaA"
      }
    },
    {
      "cell_type": "code",
      "source": [
        "a+3 #The same as a = a+3\n",
        "a+=3\n",
        "print(a)"
      ],
      "metadata": {
        "colab": {
          "base_uri": "https://localhost:8080/"
        },
        "id": "Ppl_pC_diitu",
        "outputId": "ed2bcd71-7128-41fe-ccb7-16535d4e4a21"
      },
      "execution_count": 12,
      "outputs": [
        {
          "output_type": "stream",
          "name": "stdout",
          "text": [
            "9\n"
          ]
        }
      ]
    },
    {
      "cell_type": "markdown",
      "source": [
        "**Logical Operators**"
      ],
      "metadata": {
        "id": "nuwhQaTGijmY"
      }
    },
    {
      "cell_type": "code",
      "source": [
        "x = True\n",
        "y = False\n",
        "\n",
        "x and y \n",
        "not(x or y)"
      ],
      "metadata": {
        "colab": {
          "base_uri": "https://localhost:8080/"
        },
        "id": "R_2Txp75ikj9",
        "outputId": "e99fb31c-7d93-4bab-c09b-d4b94e803da6"
      },
      "execution_count": 1,
      "outputs": [
        {
          "output_type": "execute_result",
          "data": {
            "text/plain": [
              "False"
            ]
          },
          "metadata": {},
          "execution_count": 1
        }
      ]
    },
    {
      "cell_type": "markdown",
      "source": [
        "**Identity Operators**"
      ],
      "metadata": {
        "id": "bT77NFgbiloK"
      }
    },
    {
      "cell_type": "code",
      "source": [
        "x is y\n",
        "x is not y"
      ],
      "metadata": {
        "colab": {
          "base_uri": "https://localhost:8080/"
        },
        "id": "a5HQ95ZIimuy",
        "outputId": "40e0f34a-445a-4834-8045-4d35575092f8"
      },
      "execution_count": 2,
      "outputs": [
        {
          "output_type": "execute_result",
          "data": {
            "text/plain": [
              "True"
            ]
          },
          "metadata": {},
          "execution_count": 2
        }
      ]
    }
  ]
}